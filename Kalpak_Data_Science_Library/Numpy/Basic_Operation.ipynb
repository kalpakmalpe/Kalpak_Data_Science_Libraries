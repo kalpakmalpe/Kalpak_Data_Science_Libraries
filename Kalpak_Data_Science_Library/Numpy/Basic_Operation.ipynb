{
 "cells": [
  {
   "cell_type": "code",
   "execution_count": 30,
   "metadata": {},
   "outputs": [
    {
     "name": "stdout",
     "output_type": "stream",
     "text": [
      "array is\n",
      " [0 1 2 3 4 5]\n"
     ]
    }
   ],
   "source": [
    "import numpy as np\n",
    "c = np.arange(6)\n",
    "print(\"array is\\n\",c)"
   ]
  },
  {
   "cell_type": "code",
   "execution_count": 31,
   "metadata": {},
   "outputs": [
    {
     "name": "stdout",
     "output_type": "stream",
     "text": [
      "array is\n",
      " [17 17 11 12 17 14]\n"
     ]
    }
   ],
   "source": [
    "import numpy as np\n",
    "a=np.random.randint(10,20,6)\n",
    "print(\"array is\\n\",a)"
   ]
  },
  {
   "cell_type": "code",
   "execution_count": 32,
   "metadata": {},
   "outputs": [
    {
     "name": "stdout",
     "output_type": "stream",
     "text": [
      "random values in array:\n",
      " [[[0.11349967 0.31417288 0.88139254]\n",
      "  [0.35415376 0.24578415 0.15059059]\n",
      "  [0.95103754 0.13138525 0.9586792 ]]\n",
      "\n",
      " [[0.24562071 0.59728597 0.33693754]\n",
      "  [0.39257021 0.35610927 0.02443414]\n",
      "  [0.61971579 0.66558105 0.50257284]]\n",
      "\n",
      " [[0.68547877 0.82271345 0.94941035]\n",
      "  [0.41358142 0.15259775 0.80698362]\n",
      "  [0.44456131 0.42626148 0.56836064]]]\n"
     ]
    }
   ],
   "source": [
    "import numpy as np\n",
    "arr=np.random.random((3,3,3))\n",
    "print(\"random values in array:\\n\",arr)"
   ]
  },
  {
   "cell_type": "code",
   "execution_count": 11,
   "metadata": {},
   "outputs": [
    {
     "name": "stdout",
     "output_type": "stream",
     "text": [
      "[[0.92765465 0.09000429 0.77082905 0.28205168 0.74080809]\n",
      " [0.7959674  0.50700638 0.50164131 0.56037278 0.0911476 ]\n",
      " [0.22255268 0.94264574 0.00693875 0.22556371 0.17058963]\n",
      " [0.86990996 0.52098399 0.36949868 0.67722265 0.01101766]\n",
      " [0.23928003 0.71289042 0.46217465 0.83000195 0.52629005]]\n",
      "Min element: 0.006938752808073212\n",
      "Max element: 0.9426457424117027\n"
     ]
    }
   ],
   "source": [
    "import numpy as np\n",
    "arr=np.random.random((5,5))\n",
    "print(arr)\n",
    "print(\"Min element:\",arr.min())\n",
    "print(\"Max element:\",arr.max())"
   ]
  },
  {
   "cell_type": "code",
   "execution_count": 14,
   "metadata": {},
   "outputs": [
    {
     "name": "stdout",
     "output_type": "stream",
     "text": [
      "[[0.43093198 0.69848981 0.69891272 0.44258464]\n",
      " [0.79551145 0.70517268 0.637196   0.53398706]\n",
      " [0.9302024  0.92164218 0.39428097 0.32043289]\n",
      " [0.81016413 0.35786655 0.54352947 0.01250926]\n",
      " [0.04038578 0.42024545 0.0046837  0.0784449 ]\n",
      " [0.14397146 0.58419387 0.95866479 0.12592857]\n",
      " [0.60714642 0.14169598 0.98665337 0.7125739 ]\n",
      " [0.50121774 0.81163102 0.5309236  0.09663327]\n",
      " [0.6151652  0.72624572 0.03239068 0.30000117]\n",
      " [0.59389741 0.15963352 0.6523136  0.39259918]]\n",
      "---------------------------------------------\n",
      "[[0.43093198 0.69848981 0.69891272 0.44258464]\n",
      " [0.79551145 0.70517268 0.637196   0.53398706]\n",
      " [0.9302024  0.92164218 0.39428097 0.32043289]\n",
      " [0.81016413 0.35786655 0.54352947 0.01250926]\n",
      " [0.04038578 0.42024545 0.0046837  0.0784449 ]]\n"
     ]
    }
   ],
   "source": [
    "import numpy as np\n",
    "arr=np.random.random((10,4))\n",
    "print(arr)\n",
    "print(\"---------------------------------------------\")\n",
    "a=arr[0:5,0:4]\n",
    "print(a)"
   ]
  },
  {
   "cell_type": "code",
   "execution_count": 17,
   "metadata": {},
   "outputs": [
    {
     "name": "stdout",
     "output_type": "stream",
     "text": [
      "[0 1 2 3 4 5 6 7 8 9]\n",
      "--------------------------------------\n",
      "[4 7 0 8 1 5 2 9 6 3]\n"
     ]
    }
   ],
   "source": [
    "import numpy as np\n",
    "arr=np.arange((10))\n",
    "print(arr)\n",
    "print(\"--------------------------------------\")\n",
    "a=np.random.shuffle(arr)\n",
    "print(arr)"
   ]
  },
  {
   "cell_type": "code",
   "execution_count": 19,
   "metadata": {},
   "outputs": [
    {
     "name": "stdout",
     "output_type": "stream",
     "text": [
      "[[0.38486282 0.869601  ]\n",
      " [0.72440638 0.74647521]]\n",
      "-----------------------------------\n",
      "[[0.40572831 0.10328687]\n",
      " [0.98339489 0.85352753]]\n",
      "--------------------------\n",
      "Not equal.....\n"
     ]
    }
   ],
   "source": [
    "import numpy as np\n",
    "a=np.random.random((2,2))\n",
    "print(a)\n",
    "print(\"-----------------------------------\")\n",
    "b=np.random.random((2,2))\n",
    "print(b)\n",
    "print(\"--------------------------\")\n",
    "c=np.array_equal(a,b)\n",
    "if c==False:\n",
    "    print(\"Not equal.....\")\n",
    "    \n",
    "else:\n",
    "    print(\"Equal....\")\n",
    "\n"
   ]
  },
  {
   "cell_type": "code",
   "execution_count": 38,
   "metadata": {},
   "outputs": [
    {
     "name": "stdout",
     "output_type": "stream",
     "text": [
      "First matrix is:\n",
      " [0.95421125 0.89691121 0.79350077 0.05664002 0.12393853 0.1538225\n",
      " 0.87060426 0.62600922 0.12896808 0.63160752 0.72631612 0.31113456\n",
      " 0.17011591 0.92083734 0.1239022 ]\n",
      "-------------------------------------\n",
      "New matrix:\n",
      " [-1.          0.89691121  0.79350077  0.05664002  0.12393853  0.1538225\n",
      "  0.87060426  0.62600922  0.12896808  0.63160752  0.72631612  0.31113456\n",
      "  0.17011591  0.92083734  0.1239022 ]\n"
     ]
    }
   ],
   "source": [
    "import numpy as np\n",
    "arr=np.random.random((15))\n",
    "print(\"First matrix is:\\n\",arr)\n",
    "print(\"-------------------------------------\")\n",
    "arr[arr.argmax()]=-1\n",
    "print(\"New matrix:\\n\",arr)"
   ]
  },
  {
   "cell_type": "code",
   "execution_count": 29,
   "metadata": {},
   "outputs": [
    {
     "name": "stdout",
     "output_type": "stream",
     "text": [
      "[0 5 6 4 6 9 3 5 7]\n",
      "Frequent value in array:\n",
      " 5\n"
     ]
    }
   ],
   "source": [
    "import numpy as np\n",
    "arr=np.random.randint(0,10,9)\n",
    "print(arr)\n",
    "\n",
    "print(\"Frequent value in array:\\n\",np.bincount(arr).argmax() )"
   ]
  },
  {
   "cell_type": "code",
   "execution_count": null,
   "metadata": {},
   "outputs": [],
   "source": []
  }
 ],
 "metadata": {
  "kernelspec": {
   "display_name": "Python 3",
   "language": "python",
   "name": "python3"
  },
  "language_info": {
   "codemirror_mode": {
    "name": "ipython",
    "version": 3
   },
   "file_extension": ".py",
   "mimetype": "text/x-python",
   "name": "python",
   "nbconvert_exporter": "python",
   "pygments_lexer": "ipython3",
   "version": "3.7.3"
  }
 },
 "nbformat": 4,
 "nbformat_minor": 2
}
